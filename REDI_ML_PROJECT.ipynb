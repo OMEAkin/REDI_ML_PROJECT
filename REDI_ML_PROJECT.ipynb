{
 "cells": [
  {
   "cell_type": "markdown",
   "id": "21d2c3ae",
   "metadata": {},
   "source": [
    "#### REDI ML: PROJECT ONE\n",
    "##### Part One: \"Project-based North American pumpkin prices (Visualize and clean data in preparation for ML)\""
   ]
  },
  {
   "cell_type": "markdown",
   "id": "c88cdc2a",
   "metadata": {},
   "source": [
    "So if you have ever lived in the North America, you know Pumpkins are a big deal, especially during autumn. From pumpkins pie, to pumpkins soups to pumpkins spice latte. "
   ]
  },
  {
   "cell_type": "code",
   "execution_count": null,
   "id": "18993872",
   "metadata": {},
   "outputs": [],
   "source": [
    "from IPython.display import display\n",
    "from PIL import Image\n",
    "\n",
    "img = Image.open(\"pumpkins.jpg\")\n",
    "display(img)"
   ]
  },
  {
   "cell_type": "code",
   "execution_count": null,
   "id": "b09182bc",
   "metadata": {},
   "outputs": [],
   "source": [
    "import pandas as pd\n",
    "import os \n",
    "\n",
    "cwd = os.getcwd()\n",
    "print(cwd)"
   ]
  },
  {
   "cell_type": "code",
   "execution_count": null,
   "id": "f77f27c5",
   "metadata": {},
   "outputs": [],
   "source": [
    "# to get data from Github\n",
    "# url = \"https://github.com/microsoft/ML-For-Beginners/blob/main/2-Regression/data/US-pumpkins.csv\"\n",
    "# download = requests.get(url).content"
   ]
  },
  {
   "cell_type": "code",
   "execution_count": null,
   "id": "30e1ef0d",
   "metadata": {
    "scrolled": true
   },
   "outputs": [
    {
     "data": {
      "text/html": [
       "<div>\n",
       "<style scoped>\n",
       "    .dataframe tbody tr th:only-of-type {\n",
       "        vertical-align: middle;\n",
       "    }\n",
       "\n",
       "    .dataframe tbody tr th {\n",
       "        vertical-align: top;\n",
       "    }\n",
       "\n",
       "    .dataframe thead th {\n",
       "        text-align: right;\n",
       "    }\n",
       "</style>\n",
       "<table border=\"1\" class=\"dataframe\">\n",
       "  <thead>\n",
       "    <tr style=\"text-align: right;\">\n",
       "      <th></th>\n",
       "      <th>City Name</th>\n",
       "      <th>Type</th>\n",
       "      <th>Package</th>\n",
       "      <th>Variety</th>\n",
       "      <th>Sub Variety</th>\n",
       "      <th>Grade</th>\n",
       "      <th>Date</th>\n",
       "      <th>Low Price</th>\n",
       "      <th>High Price</th>\n",
       "      <th>Mostly Low</th>\n",
       "      <th>...</th>\n",
       "      <th>Unit of Sale</th>\n",
       "      <th>Quality</th>\n",
       "      <th>Condition</th>\n",
       "      <th>Appearance</th>\n",
       "      <th>Storage</th>\n",
       "      <th>Crop</th>\n",
       "      <th>Repack</th>\n",
       "      <th>Trans Mode</th>\n",
       "      <th>Unnamed: 24</th>\n",
       "      <th>Unnamed: 25</th>\n",
       "    </tr>\n",
       "  </thead>\n",
       "  <tbody>\n",
       "    <tr>\n",
       "      <th>0</th>\n",
       "      <td>BALTIMORE</td>\n",
       "      <td>NaN</td>\n",
       "      <td>24 inch bins</td>\n",
       "      <td>NaN</td>\n",
       "      <td>NaN</td>\n",
       "      <td>NaN</td>\n",
       "      <td>4/29/17</td>\n",
       "      <td>270.0</td>\n",
       "      <td>280.0</td>\n",
       "      <td>270.0</td>\n",
       "      <td>...</td>\n",
       "      <td>NaN</td>\n",
       "      <td>NaN</td>\n",
       "      <td>NaN</td>\n",
       "      <td>NaN</td>\n",
       "      <td>NaN</td>\n",
       "      <td>NaN</td>\n",
       "      <td>E</td>\n",
       "      <td>NaN</td>\n",
       "      <td>NaN</td>\n",
       "      <td>NaN</td>\n",
       "    </tr>\n",
       "    <tr>\n",
       "      <th>1</th>\n",
       "      <td>BALTIMORE</td>\n",
       "      <td>NaN</td>\n",
       "      <td>24 inch bins</td>\n",
       "      <td>NaN</td>\n",
       "      <td>NaN</td>\n",
       "      <td>NaN</td>\n",
       "      <td>5/6/17</td>\n",
       "      <td>270.0</td>\n",
       "      <td>280.0</td>\n",
       "      <td>270.0</td>\n",
       "      <td>...</td>\n",
       "      <td>NaN</td>\n",
       "      <td>NaN</td>\n",
       "      <td>NaN</td>\n",
       "      <td>NaN</td>\n",
       "      <td>NaN</td>\n",
       "      <td>NaN</td>\n",
       "      <td>E</td>\n",
       "      <td>NaN</td>\n",
       "      <td>NaN</td>\n",
       "      <td>NaN</td>\n",
       "    </tr>\n",
       "    <tr>\n",
       "      <th>2</th>\n",
       "      <td>BALTIMORE</td>\n",
       "      <td>NaN</td>\n",
       "      <td>24 inch bins</td>\n",
       "      <td>HOWDEN TYPE</td>\n",
       "      <td>NaN</td>\n",
       "      <td>NaN</td>\n",
       "      <td>9/24/16</td>\n",
       "      <td>160.0</td>\n",
       "      <td>160.0</td>\n",
       "      <td>160.0</td>\n",
       "      <td>...</td>\n",
       "      <td>NaN</td>\n",
       "      <td>NaN</td>\n",
       "      <td>NaN</td>\n",
       "      <td>NaN</td>\n",
       "      <td>NaN</td>\n",
       "      <td>NaN</td>\n",
       "      <td>N</td>\n",
       "      <td>NaN</td>\n",
       "      <td>NaN</td>\n",
       "      <td>NaN</td>\n",
       "    </tr>\n",
       "    <tr>\n",
       "      <th>3</th>\n",
       "      <td>BALTIMORE</td>\n",
       "      <td>NaN</td>\n",
       "      <td>24 inch bins</td>\n",
       "      <td>HOWDEN TYPE</td>\n",
       "      <td>NaN</td>\n",
       "      <td>NaN</td>\n",
       "      <td>9/24/16</td>\n",
       "      <td>160.0</td>\n",
       "      <td>160.0</td>\n",
       "      <td>160.0</td>\n",
       "      <td>...</td>\n",
       "      <td>NaN</td>\n",
       "      <td>NaN</td>\n",
       "      <td>NaN</td>\n",
       "      <td>NaN</td>\n",
       "      <td>NaN</td>\n",
       "      <td>NaN</td>\n",
       "      <td>N</td>\n",
       "      <td>NaN</td>\n",
       "      <td>NaN</td>\n",
       "      <td>NaN</td>\n",
       "    </tr>\n",
       "    <tr>\n",
       "      <th>4</th>\n",
       "      <td>BALTIMORE</td>\n",
       "      <td>NaN</td>\n",
       "      <td>24 inch bins</td>\n",
       "      <td>HOWDEN TYPE</td>\n",
       "      <td>NaN</td>\n",
       "      <td>NaN</td>\n",
       "      <td>11/5/16</td>\n",
       "      <td>90.0</td>\n",
       "      <td>100.0</td>\n",
       "      <td>90.0</td>\n",
       "      <td>...</td>\n",
       "      <td>NaN</td>\n",
       "      <td>NaN</td>\n",
       "      <td>NaN</td>\n",
       "      <td>NaN</td>\n",
       "      <td>NaN</td>\n",
       "      <td>NaN</td>\n",
       "      <td>N</td>\n",
       "      <td>NaN</td>\n",
       "      <td>NaN</td>\n",
       "      <td>NaN</td>\n",
       "    </tr>\n",
       "  </tbody>\n",
       "</table>\n",
       "<p>5 rows × 26 columns</p>\n",
       "</div>"
      ],
      "text/plain": [
       "   City Name Type       Package      Variety Sub Variety  Grade     Date  \\\n",
       "0  BALTIMORE  NaN  24 inch bins          NaN         NaN    NaN  4/29/17   \n",
       "1  BALTIMORE  NaN  24 inch bins          NaN         NaN    NaN   5/6/17   \n",
       "2  BALTIMORE  NaN  24 inch bins  HOWDEN TYPE         NaN    NaN  9/24/16   \n",
       "3  BALTIMORE  NaN  24 inch bins  HOWDEN TYPE         NaN    NaN  9/24/16   \n",
       "4  BALTIMORE  NaN  24 inch bins  HOWDEN TYPE         NaN    NaN  11/5/16   \n",
       "\n",
       "   Low Price  High Price  Mostly Low  ...  Unit of Sale Quality Condition  \\\n",
       "0      270.0       280.0       270.0  ...           NaN     NaN       NaN   \n",
       "1      270.0       280.0       270.0  ...           NaN     NaN       NaN   \n",
       "2      160.0       160.0       160.0  ...           NaN     NaN       NaN   \n",
       "3      160.0       160.0       160.0  ...           NaN     NaN       NaN   \n",
       "4       90.0       100.0        90.0  ...           NaN     NaN       NaN   \n",
       "\n",
       "  Appearance Storage  Crop Repack  Trans Mode  Unnamed: 24  Unnamed: 25  \n",
       "0        NaN     NaN   NaN      E         NaN          NaN          NaN  \n",
       "1        NaN     NaN   NaN      E         NaN          NaN          NaN  \n",
       "2        NaN     NaN   NaN      N         NaN          NaN          NaN  \n",
       "3        NaN     NaN   NaN      N         NaN          NaN          NaN  \n",
       "4        NaN     NaN   NaN      N         NaN          NaN          NaN  \n",
       "\n",
       "[5 rows x 26 columns]"
      ]
     },
     "execution_count": 4,
     "metadata": {},
     "output_type": "execute_result"
    }
   ],
   "source": [
    "pumpkins = pd.read_csv(\"C:/Users/Mercy Akinloye/Desktop/CODE/Jupyter/RediML_P1/ML-For-Beginners/2-Regression/data/US-pumpkins.csv\", encoding = 'utf-8')\n",
    "pumpkins.head()"
   ]
  },
  {
   "cell_type": "markdown",
   "id": "1326f143",
   "metadata": {},
   "source": [
    "#### DATA PREPARATION"
   ]
  },
  {
   "cell_type": "code",
   "execution_count": null,
   "id": "ca2a5dd8",
   "metadata": {},
   "outputs": [
    {
     "data": {
      "text/plain": [
       "City Name             0\n",
       "Type               1712\n",
       "Package               0\n",
       "Variety               5\n",
       "Sub Variety        1461\n",
       "Grade              1757\n",
       "Date                  0\n",
       "Low Price             0\n",
       "High Price            0\n",
       "Mostly Low          103\n",
       "Mostly High         103\n",
       "Origin                3\n",
       "Origin District    1626\n",
       "Item Size           279\n",
       "Color               616\n",
       "Environment        1757\n",
       "Unit of Sale       1595\n",
       "Quality            1757\n",
       "Condition          1757\n",
       "Appearance         1757\n",
       "Storage            1757\n",
       "Crop               1757\n",
       "Repack                0\n",
       "Trans Mode         1757\n",
       "Unnamed: 24        1757\n",
       "Unnamed: 25        1654\n",
       "dtype: int64"
      ]
     },
     "execution_count": 5,
     "metadata": {},
     "output_type": "execute_result"
    }
   ],
   "source": [
    "# check for missing data\n",
    "pumpkins.isnull().sum()"
   ]
  },
  {
   "cell_type": "code",
   "execution_count": null,
   "id": "d225cb70",
   "metadata": {},
   "outputs": [
    {
     "data": {
      "text/plain": [
       "<AxesSubplot: >"
      ]
     },
     "execution_count": 8,
     "metadata": {},
     "output_type": "execute_result"
    },
    {
     "data": {
      "image/png": "[encoded data removed]",
      "text/plain": [
       "<Figure size 640x480 with 1 Axes>"
      ]
     },
     "metadata": {},
     "output_type": "display_data"
    }
   ],
   "source": [
    "# figure for data visualization\n",
    "import seaborn as sns\n",
    "\n",
    "sns.heatmap(pumpkins.isnull(), yticklabels=False, cbar=False, cmap='viridis') # yellow = null values"
   ]
  },
  {
   "cell_type": "markdown",
   "id": "cf24d0be",
   "metadata": {},
   "source": [
    "##### DATA PREPROCESSING I\n",
    "\n",
    "Dataframe: \n",
    "- will subset pumpkins dataset to contain the following columns: Month, DayofYear, Variety, City, Package, Low_Price, High_Price & Average \n",
    "\n",
    "Tasks:\n",
    "- Modify 'Date' column and create a 'Month' & 'DayofYear' columns \n",
    "- Filter 'Package' to include just bushels\n",
    "- Calculate average price ('Average_Price) from 'Low_Price' & 'High_Price'\n",
    "- Subset the dataframe (new_pumpkins) to contain only the following relevant columns: \n",
    "    - Month, DayOfYear, Variety, City, Package, Low_Price, High_Price, Average_Price\n"
   ]
  },
  {
   "cell_type": "code",
   "execution_count": null,
   "id": "bfa9f62b",
   "metadata": {},
   "outputs": [],
   "source": [
    "# create new datasets rop columns\n",
    "# new_columns = ['Package', 'Month', 'Day_of_Year','Low_Price', 'High_Price', 'Date']\n",
    "# pumpkins = pumpkins.drop([c for c in pumpkins.columns if c not in new_columns], axis=1)"
   ]
  },
  {
   "cell_type": "code",
   "execution_count": null,
   "id": "d054fa56",
   "metadata": {},
   "outputs": [
    {
     "name": "stdout",
     "output_type": "stream",
     "text": [
      "Int64Index([ 9,  9, 10, 10, 10, 10, 10, 10, 10, 10,\n",
      "            ...\n",
      "             9,  9,  9,  9,  9,  9,  9,  9,  9,  9],\n",
      "           dtype='int64', name='Date', length=415)\n"
     ]
    }
   ],
   "source": [
    "# get month detail from date\n",
    "month = pd.DatetimeIndex(pumpkins['Date']).month\n",
    "print(f\"Months: {month}\\n\")\n",
    "\n",
    "day_of_year = pd.to_datetime(pumpkins['Date']).apply(lambda dt: (dt-datetime(dt.year,1,1)).days)\n",
    "print(f\"Days of the year: {day_of_year}\")"
   ]
  },
  {
   "cell_type": "code",
   "execution_count": null,
   "id": "299d0512",
   "metadata": {},
   "outputs": [
    {
     "name": "stdout",
     "output_type": "stream",
     "text": [
      "70      15.000\n",
      "71      18.000\n",
      "72      18.000\n",
      "73      17.000\n",
      "74      15.000\n",
      "         ...  \n",
      "1738    15.000\n",
      "1739    14.375\n",
      "1740    12.875\n",
      "1741    12.000\n",
      "1742    12.000\n",
      "Length: 415, dtype: float64\n"
     ]
    }
   ],
   "source": [
    "# calculate average pumpkin prices\n",
    "avg_price = (pumpkins['Low_Price'] + pumpkins['High_Price']) / 2\n",
    "print(avg_price)"
   ]
  },
  {
   "cell_type": "markdown",
   "id": "e04edbe8",
   "metadata": {},
   "source": [
    "> In this analysis, we want to focus on the pumpkins package. Since pumpkins package is recorded in different units, we will filtered the dataset to focus just on the 'bushel' unit."
   ]
  },
  {
   "cell_type": "code",
   "execution_count": null,
   "id": "c8bacfd9",
   "metadata": {},
   "outputs": [],
   "source": [
    "# filter dataset so that package only contain 'bushel'\n",
    "\n",
    "## what does regex mean\n",
    "pumpkins = pumpkins[pumpkins['Package'].str.contains('bushel', case=True, regex=True)]"
   ]
  },
  {
   "cell_type": "code",
   "execution_count": null,
   "id": "90ee6ae7",
   "metadata": {},
   "outputs": [],
   "source": [
    "#for package -> brushels is for 1 1/9 or for 1/2, need to standardize prices to be per 1 brushel\n",
    "\n",
    "new_pumpkins.loc[new_pumpkins['Package'].str.contains('1 1/9'), 'Average Price'] = avg_price / (1 + 1/9)\n",
    "new_pumpkins.loc[new_pumpkins['Package'].str.contains('1/2'), 'Average Price'] = avg_price / (1/2)"
   ]
  },
  {
   "cell_type": "code",
   "execution_count": null,
   "id": "3fabdbf7",
   "metadata": {},
   "outputs": [
    {
     "name": "stdout",
     "output_type": "stream",
     "text": [
      "      Month               Package  Low Price  High Price  Average Price\n",
      "70        9  1 1/9 bushel cartons      15.00        15.0         15.000\n",
      "71        9  1 1/9 bushel cartons      18.00        18.0         18.000\n",
      "72       10  1 1/9 bushel cartons      18.00        18.0         18.000\n",
      "73       10  1 1/9 bushel cartons      17.00        17.0         17.000\n",
      "74       10  1 1/9 bushel cartons      15.00        15.0         15.000\n",
      "...     ...                   ...        ...         ...            ...\n",
      "1738      9    1/2 bushel cartons      15.00        15.0         15.000\n",
      "1739      9    1/2 bushel cartons      13.75        15.0         14.375\n",
      "1740      9    1/2 bushel cartons      10.75        15.0         12.875\n",
      "1741      9    1/2 bushel cartons      12.00        12.0         12.000\n",
      "1742      9    1/2 bushel cartons      12.00        12.0         12.000\n",
      "\n",
      "[415 rows x 5 columns]\n"
     ]
    }
   ],
   "source": [
    "# create new dataset\n",
    "new_pumpkins = pd.DataFrame(\n",
    "    {'Month': month, \n",
    "     'DayOfYear' : day_of_year, \n",
    "     'Variety': pumpkins['Variety'], \n",
    "     'City': pumpkins['City Name'], \n",
    "     'Package': pumpkins['Package'], \n",
    "     'Low_Price': pumpkins['Low Price'],\n",
    "     'High_Price': pumpkins['High Price'], \n",
    "     'Average_Price': avg_price})\n",
    "print(new_pumpkins)"
   ]
  },
  {
   "cell_type": "code",
   "execution_count": null,
   "id": "d9002dea",
   "metadata": {},
   "outputs": [
    {
     "data": {
      "text/plain": [
       "Month            0\n",
       "Package          0\n",
       "Low Price        0\n",
       "High Price       0\n",
       "Average Price    0\n",
       "dtype: int64"
      ]
     },
     "execution_count": 15,
     "metadata": {},
     "output_type": "execute_result"
    }
   ],
   "source": [
    "# check for missing data - double checking never hurts\n",
    "new_pumpkins.isnull().sum()"
   ]
  },
  {
   "cell_type": "code",
   "execution_count": null,
   "id": "c6ae646f",
   "metadata": {},
   "outputs": [],
   "source": []
  },
  {
   "cell_type": "markdown",
   "id": "9f3eb285",
   "metadata": {},
   "source": [
    "##### VISUALIZATION"
   ]
  },
  {
   "cell_type": "code",
   "execution_count": null,
   "id": "2fbc0024",
   "metadata": {},
   "outputs": [],
   "source": [
    "import matplotlib.pyplot as plt"
   ]
  },
  {
   "cell_type": "code",
   "execution_count": null,
   "id": "b3139f08",
   "metadata": {},
   "outputs": [
    {
     "data": {
      "text/plain": [
       "Text(0, 0.5, 'Pumpkin Price')"
      ]
     },
     "execution_count": 21,
     "metadata": {},
     "output_type": "execute_result"
    },
    {
     "data": {
      "image/png": "[encoded data removed]",
      "text/plain": [
       "<Figure size 640x480 with 1 Axes>"
      ]
     },
     "metadata": {},
     "output_type": "display_data"
    }
   ],
   "source": [
    "# Average price of pumpkins grouped by Months \n",
    "new_pumpkins.groupby(['Month'])['Average Price'].mean().plot(kind='bar')\n",
    "plt.ylabel(\"Pumpkin Price\")"
   ]
  },
  {
   "cell_type": "code",
   "execution_count": null,
   "id": "773fdfcf",
   "metadata": {},
   "outputs": [],
   "source": [
    "new_pumpkins.groupby(['Month'])['Average Price'].mean().plot(kind='line')\n",
    "ax.set_xticks(range(int(new_pumpkins['Month'].min()), int(new_pumpkins['Month'].max()) + 1))\n",
    "plt.title(\"Average Pumpkin Price by Month\")\n",
    "plt.ylabel(\"Pumpkin Price\")"
   ]
  },
  {
   "cell_type": "markdown",
   "id": "a3988bee",
   "metadata": {},
   "source": [
    "> From the bar chart, pumpkins prices start to rise in the 8th (August) month which is the end of summer and remains high in the 9th and 10th month (September and October), and starts to drop in the 11th month (November). We clearly see the rise and fall in the prices more likely in the line graph."
   ]
  },
  {
   "cell_type": "markdown",
   "id": "1c53a738",
   "metadata": {},
   "source": [
    "#### LINEAR & POLYNOMIAL REGRESSION \n"
   ]
  },
  {
   "cell_type": "code",
   "execution_count": null,
   "id": "a8af6bb3",
   "metadata": {},
   "outputs": [],
   "source": [
    "df_ppumpkins = pie_pumpkins[['DayOfYear', 'Average Price']]\n",
    "df_ppumpkins.corr(method = 'pearson')\n",
    "\n",
    "# correlation is a -0.27, why does training a predictive model make sense?"
   ]
  },
  {
   "cell_type": "code",
   "execution_count": null,
   "id": "a1b1f84c",
   "metadata": {},
   "outputs": [],
   "source": [
    "# dropping missing values before Linear Regression\n",
    "\n",
    "pie_pumpkins.dropna(inplace=True) #meaning of output message\n",
    "pie_pumpkins.info()"
   ]
  },
  {
   "cell_type": "code",
   "execution_count": null,
   "id": "176f4656",
   "metadata": {},
   "outputs": [],
   "source": [
    "#### Simple Linear Regression"
   ]
  },
  {
   "cell_type": "code",
   "execution_count": null,
   "id": "315859a1",
   "metadata": {},
   "outputs": [],
   "source": [
    "from sklearn.linear_model import LinearRegression \n",
    "from sklearn.metrics import mean_squared_error\n",
    "from sklearn.model_selection import train_test_split"
   ]
  },
  {
   "cell_type": "code",
   "execution_count": null,
   "id": "6701d6a9",
   "metadata": {},
   "outputs": [],
   "source": [
    "#reshape needed cause LR uses 2D-array as an input\n",
    "#we only have one input so we need array with shape Nx1 (N = dataset size)\n",
    "X = pie_pumpkins['DayOfYear'].to_numpy().reshape(-1,1)\n",
    "y = pie_pumpkins['Average Price']"
   ]
  },
  {
   "cell_type": "code",
   "execution_count": null,
   "id": "5cd4a1b0",
   "metadata": {},
   "outputs": [],
   "source": [
    "#split data into training and testing set\n",
    "X_train, X_test, y_train, y_test = train_test_split(X, y, test_size=0.2, random_state=0)"
   ]
  },
  {
   "cell_type": "code",
   "execution_count": null,
   "id": "24b64915",
   "metadata": {},
   "outputs": [],
   "source": [
    "lin_reg = LinearRegression()\n",
    "lin_reg.fit(X_train,y_train)\n",
    "\n",
    "print(lin_reg)"
   ]
  },
  {
   "cell_type": "code",
   "execution_count": null,
   "id": "689601fd",
   "metadata": {},
   "outputs": [],
   "source": [
    "print(lin_reg.coef_)\n",
    "\n",
    "#output = -0.02 --> price drops around 2 cents per day"
   ]
  },
  {
   "cell_type": "code",
   "execution_count": null,
   "id": "efb96d73",
   "metadata": {},
   "outputs": [],
   "source": [
    "print(lin_reg.intercept_)\n",
    "\n",
    "#output = 21 --> price at the beginning of the year is around 21 dollars"
   ]
  },
  {
   "cell_type": "code",
   "execution_count": null,
   "id": "77839ffd",
   "metadata": {},
   "outputs": [],
   "source": [
    "# check accuracy and predict prices with test dataset\n",
    "# MSE metrics: mean square error -->  mean of all squared differences between expected & predicted value\n",
    "\n",
    "pred = lin_reg.predict(X_test)\n",
    "\n",
    "mse = np.sqrt(mean_squared_error(y_test,pred))\n",
    "print(f'Mean error: {mse:3.3} ({mse/np.mean(pred)*100:3.3}%)')\n",
    "\n",
    "# check the math behind MSE"
   ]
  },
  {
   "cell_type": "code",
   "execution_count": null,
   "id": "74535243",
   "metadata": {},
   "outputs": [],
   "source": [
    "# check coefficient of determination \n",
    "\n",
    "score = lin_reg.score(X_train,y_train) #review LR code\n",
    "print('Model determination: ', score)"
   ]
  },
  {
   "cell_type": "markdown",
   "id": "99aa8bda",
   "metadata": {},
   "source": [
    "> Output: \n",
    "#0 - worst linear predictor, input data not taken into account  \n",
    "#1 - best linear predictor, predicted all expected outcome\n",
    "\n",
    "Result = 0.04 --> pretty low"
   ]
  },
  {
   "cell_type": "code",
   "execution_count": null,
   "id": "ce54343a",
   "metadata": {},
   "outputs": [],
   "source": [
    "# plot regression line\n",
    "\n",
    "plt.scatter(X_test,y_test)\n",
    "plt.plot(X_test,pred)"
   ]
  },
  {
   "cell_type": "markdown",
   "id": "410d57c3",
   "metadata": {},
   "source": [
    "### Polynomial Regression\n",
    "\n",
    "- price can fluctuate so relationship cannot necessarily be determined by a linear line\n",
    "- Ex with pumpkin data:"
   ]
  },
  {
   "cell_type": "code",
   "execution_count": null,
   "id": "c24a3ac1",
   "metadata": {},
   "outputs": [],
   "source": [
    "#PR creates curved line to better fit nonlinear data \n",
    "#DayOfYear variable is squared and introduced into the input data\n",
    "\n",
    "from sklearn.preprocessing import PolynomialFeatures\n",
    "from sklearn.pipeline import make_pipeline"
   ]
  },
  {
   "cell_type": "code",
   "execution_count": null,
   "id": "abe44f5e",
   "metadata": {},
   "outputs": [],
   "source": [
    "#pipeline - first, adds polynomial features to model, then trains regression\n",
    "\n",
    "pipeline = make_pipeline(PolynomialFeatures(2), LinearRegression())\n",
    "#Polynomial Feature"
   ]
  },
  {
   "cell_type": "code",
   "execution_count": null,
   "id": "c924717a",
   "metadata": {},
   "outputs": [],
   "source": [
    "pipeline.fit(X_train,y_train)\n",
    "\n",
    "print(pipeline)"
   ]
  },
  {
   "cell_type": "code",
   "execution_count": null,
   "id": "3da4922f",
   "metadata": {},
   "outputs": [],
   "source": [
    "#ERROR: unless you add [1]\n",
    "\n",
    "print(pipeline[1].coef_)"
   ]
  },
  {
   "cell_type": "code",
   "execution_count": null,
   "id": "0ac19662",
   "metadata": {},
   "outputs": [],
   "source": [
    "print(pipeline[1].intercept_)"
   ]
  },
  {
   "cell_type": "code",
   "execution_count": null,
   "id": "7aaf50cb",
   "metadata": {},
   "outputs": [],
   "source": [
    "poly_pred = pipeline.predict(X_test)"
   ]
  },
  {
   "cell_type": "code",
   "execution_count": null,
   "id": "b7469848",
   "metadata": {},
   "outputs": [],
   "source": [
    "#to convert categorical variable into numeric form, can use one hot encoding \n",
    "pd.get_dummies(new_pumpkins['Variety'])"
   ]
  },
  {
   "cell_type": "code",
   "execution_count": null,
   "id": "723ce3cd",
   "metadata": {},
   "outputs": [],
   "source": [
    "#train linear regression w/ one-hot encoded variety as input\n",
    "#initialize X and y data correctly\n",
    "\n",
    "X = pd.get_dummies(new_pumpkins['Variety'])\n",
    "y = new_pumpkins['Average Price']"
   ]
  },
  {
   "cell_type": "code",
   "execution_count": null,
   "id": "9004d380",
   "metadata": {},
   "outputs": [],
   "source": [
    "#combine different variables (categorical and numerical ones) to train LR and get more accurate predictions\n",
    "#pd.get_dummies --> convert categorical variables into the numeric form\n",
    "#.join --> combine different variables for training LR\n",
    "\n",
    "#setting up training data\n",
    "X = pd.get_dummies(new_pumpkins['Variety']) \\\n",
    "        .join(new_pumpkins['Month']) \\\n",
    "        .join(pd.get_dummies(new_pumpkins['City'])) \\\n",
    "        .join(pd.get_dummies(new_pumpkins['Package']))\n",
    "y = new_pumpkins['Average Price']"
   ]
  },
  {
   "cell_type": "code",
   "execution_count": null,
   "id": "7bd06ac2",
   "metadata": {},
   "outputs": [],
   "source": [
    "#make train-test split\n",
    "X_train, X_test, y_train, y_test = train_test_split(X, y, test_size = 0.2, random_state = 0)"
   ]
  },
  {
   "cell_type": "code",
   "execution_count": null,
   "id": "ed28e2d4",
   "metadata": {},
   "outputs": [],
   "source": [
    "#Setting up & training pipeline\n",
    "\n",
    "pipeline = make_pipeline(PolynomialFeatures(2), LinearRegression())\n",
    "pipeline.fit(X_train, y_train)"
   ]
  },
  {
   "cell_type": "code",
   "execution_count": null,
   "id": "d1680ebb",
   "metadata": {},
   "outputs": [],
   "source": [
    "#Predict results for test data\n",
    "pred = pipeline.predict(X_test)"
   ]
  },
  {
   "cell_type": "code",
   "execution_count": null,
   "id": "1a35d17b",
   "metadata": {},
   "outputs": [],
   "source": [
    "#calculate MSE and determination \n",
    "mse = np.sqrt(mean_squared_error(y_test, pred))\n",
    "print(f'Mean error: {mse:3.3} ({mse/np.mean(pred)*100:3.3}%)')\n",
    "\n",
    "score = pipeline.score(X_train, y_train)\n",
    "print('Model determination: ', score)\n",
    "\n",
    "#Output: MSE = 2.5 (~9% prediction error), determination coefficient ~ 96%"
   ]
  },
  {
   "cell_type": "code",
   "execution_count": null,
   "id": "2b0e0163",
   "metadata": {},
   "outputs": [],
   "source": [
    "#### LOGISTIC REGRESSION "
   ]
  }
 ],
 "metadata": {
  "kernelspec": {
   "display_name": "Python 3 (ipykernel)",
   "language": "python",
   "name": "python3"
  },
  "language_info": {
   "codemirror_mode": {
    "name": "ipython",
    "version": 3
   },
   "file_extension": ".py",
   "mimetype": "text/x-python",
   "name": "python",
   "nbconvert_exporter": "python",
   "pygments_lexer": "ipython3",
   "version": "3.12.3"
  }
 },
 "nbformat": 4,
 "nbformat_minor": 5
}
